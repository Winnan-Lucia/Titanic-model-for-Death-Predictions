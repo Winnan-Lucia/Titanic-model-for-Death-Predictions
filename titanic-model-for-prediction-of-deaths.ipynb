{
 "cells": [
  {
   "cell_type": "code",
   "execution_count": 1,
   "id": "954a1275",
   "metadata": {
    "_cell_guid": "b1076dfc-b9ad-4769-8c92-a6c4dae69d19",
    "_uuid": "8f2839f25d086af736a60e9eeb907d3b93b6e0e5",
    "execution": {
     "iopub.execute_input": "2023-04-20T09:54:01.975373Z",
     "iopub.status.busy": "2023-04-20T09:54:01.974986Z",
     "iopub.status.idle": "2023-04-20T09:54:01.988632Z",
     "shell.execute_reply": "2023-04-20T09:54:01.986905Z"
    },
    "papermill": {
     "duration": 0.030656,
     "end_time": "2023-04-20T09:54:01.990980",
     "exception": false,
     "start_time": "2023-04-20T09:54:01.960324",
     "status": "completed"
    },
    "tags": []
   },
   "outputs": [
    {
     "name": "stdout",
     "output_type": "stream",
     "text": [
      "/kaggle/input/titanic/train.csv\n",
      "/kaggle/input/titanic/test.csv\n",
      "/kaggle/input/titanic/gender_submission.csv\n"
     ]
    }
   ],
   "source": [
    "# This Python 3 environment comes with many helpful analytics libraries installed\n",
    "# It is defined by the kaggle/python Docker image: https://github.com/kaggle/docker-python\n",
    "# For example, here's several helpful packages to load\n",
    "\n",
    "import numpy as np # linear algebra\n",
    "import pandas as pd # data processing, CSV file I/O (e.g. pd.read_csv)\n",
    "\n",
    "# Input data files are available in the read-only \"../input/\" directory\n",
    "# For example, running this (by clicking run or pressing Shift+Enter) will list all files under the input directory\n",
    "\n",
    "import os\n",
    "for dirname, _, filenames in os.walk('/kaggle/input'):\n",
    "    for filename in filenames:\n",
    "        print(os.path.join(dirname, filename))\n",
    "\n",
    "# You can write up to 20GB to the current directory (/kaggle/working/) that gets preserved as output when you create a version using \"Save & Run All\" \n",
    "# You can also write temporary files to /kaggle/temp/, but they won't be saved outside of the current session"
   ]
  },
  {
   "cell_type": "markdown",
   "id": "e9100e58",
   "metadata": {
    "papermill": {
     "duration": 0.012093,
     "end_time": "2023-04-20T09:54:02.014788",
     "exception": false,
     "start_time": "2023-04-20T09:54:02.002695",
     "status": "completed"
    },
    "tags": []
   },
   "source": [
    "Importing Libraries"
   ]
  },
  {
   "cell_type": "code",
   "execution_count": 2,
   "id": "93c32d19",
   "metadata": {
    "execution": {
     "iopub.execute_input": "2023-04-20T09:54:02.042571Z",
     "iopub.status.busy": "2023-04-20T09:54:02.041549Z",
     "iopub.status.idle": "2023-04-20T09:54:03.565258Z",
     "shell.execute_reply": "2023-04-20T09:54:03.564142Z"
    },
    "papermill": {
     "duration": 1.540919,
     "end_time": "2023-04-20T09:54:03.567759",
     "exception": false,
     "start_time": "2023-04-20T09:54:02.026840",
     "status": "completed"
    },
    "tags": []
   },
   "outputs": [],
   "source": [
    "#Data visualization libraries\n",
    "import seaborn as sns\n",
    "%matplotlib inline\n",
    "from matplotlib import pyplot as plt\n",
    "from matplotlib import style\n",
    "#Algorithms\n",
    "from sklearn import linear_model\n",
    "from sklearn.linear_model import LogisticRegression\n",
    "from sklearn.linear_model import Perceptron\n",
    "from sklearn.linear_model import SGDClassifier\n",
    "from sklearn.ensemble import RandomForestClassifier\n",
    "from sklearn.tree import DecisionTreeClassifier\n",
    "from sklearn.neighbors import KNeighborsClassifier\n",
    "from sklearn.svm import SVC, LinearSVC\n",
    "from sklearn.naive_bayes import GaussianNB\n",
    "\n",
    "\n",
    "\n"
   ]
  },
  {
   "cell_type": "markdown",
   "id": "16b35215",
   "metadata": {
    "papermill": {
     "duration": 0.010694,
     "end_time": "2023-04-20T09:54:03.590516",
     "exception": false,
     "start_time": "2023-04-20T09:54:03.579822",
     "status": "completed"
    },
    "tags": []
   },
   "source": [
    "Getting the data"
   ]
  },
  {
   "cell_type": "code",
   "execution_count": 3,
   "id": "172f940f",
   "metadata": {
    "execution": {
     "iopub.execute_input": "2023-04-20T09:54:03.612777Z",
     "iopub.status.busy": "2023-04-20T09:54:03.612087Z",
     "iopub.status.idle": "2023-04-20T09:54:03.636716Z",
     "shell.execute_reply": "2023-04-20T09:54:03.635886Z"
    },
    "papermill": {
     "duration": 0.037909,
     "end_time": "2023-04-20T09:54:03.638687",
     "exception": false,
     "start_time": "2023-04-20T09:54:03.600778",
     "status": "completed"
    },
    "tags": []
   },
   "outputs": [],
   "source": [
    "train_data = pd.read_csv(\"/kaggle/input/titanic/train.csv\")\n",
    "test_data = pd.read_csv(\"/kaggle/input/titanic/train.csv\")"
   ]
  },
  {
   "cell_type": "markdown",
   "id": "b3906a5a",
   "metadata": {
    "papermill": {
     "duration": 0.010265,
     "end_time": "2023-04-20T09:54:03.659621",
     "exception": false,
     "start_time": "2023-04-20T09:54:03.649356",
     "status": "completed"
    },
    "tags": []
   },
   "source": [
    "Exploratory data analysis"
   ]
  },
  {
   "cell_type": "code",
   "execution_count": 4,
   "id": "7638df7b",
   "metadata": {
    "execution": {
     "iopub.execute_input": "2023-04-20T09:54:03.682741Z",
     "iopub.status.busy": "2023-04-20T09:54:03.682158Z",
     "iopub.status.idle": "2023-04-20T09:54:03.706303Z",
     "shell.execute_reply": "2023-04-20T09:54:03.704919Z"
    },
    "papermill": {
     "duration": 0.038012,
     "end_time": "2023-04-20T09:54:03.708484",
     "exception": false,
     "start_time": "2023-04-20T09:54:03.670472",
     "status": "completed"
    },
    "tags": []
   },
   "outputs": [
    {
     "name": "stdout",
     "output_type": "stream",
     "text": [
      "<class 'pandas.core.frame.DataFrame'>\n",
      "RangeIndex: 891 entries, 0 to 890\n",
      "Data columns (total 12 columns):\n",
      " #   Column       Non-Null Count  Dtype  \n",
      "---  ------       --------------  -----  \n",
      " 0   PassengerId  891 non-null    int64  \n",
      " 1   Survived     891 non-null    int64  \n",
      " 2   Pclass       891 non-null    int64  \n",
      " 3   Name         891 non-null    object \n",
      " 4   Sex          891 non-null    object \n",
      " 5   Age          714 non-null    float64\n",
      " 6   SibSp        891 non-null    int64  \n",
      " 7   Parch        891 non-null    int64  \n",
      " 8   Ticket       891 non-null    object \n",
      " 9   Fare         891 non-null    float64\n",
      " 10  Cabin        204 non-null    object \n",
      " 11  Embarked     889 non-null    object \n",
      "dtypes: float64(2), int64(5), object(5)\n",
      "memory usage: 83.7+ KB\n"
     ]
    }
   ],
   "source": [
    "train_data.info()"
   ]
  },
  {
   "cell_type": "markdown",
   "id": "d8336874",
   "metadata": {
    "papermill": {
     "duration": 0.01156,
     "end_time": "2023-04-20T09:54:03.732079",
     "exception": false,
     "start_time": "2023-04-20T09:54:03.720519",
     "status": "completed"
    },
    "tags": []
   },
   "source": [
    "The data has 891 entries and 3 data types. 2 of the features are floats,5 are integers and 5 are objects. "
   ]
  },
  {
   "cell_type": "code",
   "execution_count": 5,
   "id": "2f55ffe4",
   "metadata": {
    "execution": {
     "iopub.execute_input": "2023-04-20T09:54:03.757232Z",
     "iopub.status.busy": "2023-04-20T09:54:03.756400Z",
     "iopub.status.idle": "2023-04-20T09:54:03.799783Z",
     "shell.execute_reply": "2023-04-20T09:54:03.798573Z"
    },
    "papermill": {
     "duration": 0.058344,
     "end_time": "2023-04-20T09:54:03.802030",
     "exception": false,
     "start_time": "2023-04-20T09:54:03.743686",
     "status": "completed"
    },
    "tags": []
   },
   "outputs": [
    {
     "data": {
      "text/html": [
       "<div>\n",
       "<style scoped>\n",
       "    .dataframe tbody tr th:only-of-type {\n",
       "        vertical-align: middle;\n",
       "    }\n",
       "\n",
       "    .dataframe tbody tr th {\n",
       "        vertical-align: top;\n",
       "    }\n",
       "\n",
       "    .dataframe thead th {\n",
       "        text-align: right;\n",
       "    }\n",
       "</style>\n",
       "<table border=\"1\" class=\"dataframe\">\n",
       "  <thead>\n",
       "    <tr style=\"text-align: right;\">\n",
       "      <th></th>\n",
       "      <th>PassengerId</th>\n",
       "      <th>Survived</th>\n",
       "      <th>Pclass</th>\n",
       "      <th>Age</th>\n",
       "      <th>SibSp</th>\n",
       "      <th>Parch</th>\n",
       "      <th>Fare</th>\n",
       "    </tr>\n",
       "  </thead>\n",
       "  <tbody>\n",
       "    <tr>\n",
       "      <th>count</th>\n",
       "      <td>891.000000</td>\n",
       "      <td>891.000000</td>\n",
       "      <td>891.000000</td>\n",
       "      <td>714.000000</td>\n",
       "      <td>891.000000</td>\n",
       "      <td>891.000000</td>\n",
       "      <td>891.000000</td>\n",
       "    </tr>\n",
       "    <tr>\n",
       "      <th>mean</th>\n",
       "      <td>446.000000</td>\n",
       "      <td>0.383838</td>\n",
       "      <td>2.308642</td>\n",
       "      <td>29.699118</td>\n",
       "      <td>0.523008</td>\n",
       "      <td>0.381594</td>\n",
       "      <td>32.204208</td>\n",
       "    </tr>\n",
       "    <tr>\n",
       "      <th>std</th>\n",
       "      <td>257.353842</td>\n",
       "      <td>0.486592</td>\n",
       "      <td>0.836071</td>\n",
       "      <td>14.526497</td>\n",
       "      <td>1.102743</td>\n",
       "      <td>0.806057</td>\n",
       "      <td>49.693429</td>\n",
       "    </tr>\n",
       "    <tr>\n",
       "      <th>min</th>\n",
       "      <td>1.000000</td>\n",
       "      <td>0.000000</td>\n",
       "      <td>1.000000</td>\n",
       "      <td>0.420000</td>\n",
       "      <td>0.000000</td>\n",
       "      <td>0.000000</td>\n",
       "      <td>0.000000</td>\n",
       "    </tr>\n",
       "    <tr>\n",
       "      <th>25%</th>\n",
       "      <td>223.500000</td>\n",
       "      <td>0.000000</td>\n",
       "      <td>2.000000</td>\n",
       "      <td>20.125000</td>\n",
       "      <td>0.000000</td>\n",
       "      <td>0.000000</td>\n",
       "      <td>7.910400</td>\n",
       "    </tr>\n",
       "    <tr>\n",
       "      <th>50%</th>\n",
       "      <td>446.000000</td>\n",
       "      <td>0.000000</td>\n",
       "      <td>3.000000</td>\n",
       "      <td>28.000000</td>\n",
       "      <td>0.000000</td>\n",
       "      <td>0.000000</td>\n",
       "      <td>14.454200</td>\n",
       "    </tr>\n",
       "    <tr>\n",
       "      <th>75%</th>\n",
       "      <td>668.500000</td>\n",
       "      <td>1.000000</td>\n",
       "      <td>3.000000</td>\n",
       "      <td>38.000000</td>\n",
       "      <td>1.000000</td>\n",
       "      <td>0.000000</td>\n",
       "      <td>31.000000</td>\n",
       "    </tr>\n",
       "    <tr>\n",
       "      <th>max</th>\n",
       "      <td>891.000000</td>\n",
       "      <td>1.000000</td>\n",
       "      <td>3.000000</td>\n",
       "      <td>80.000000</td>\n",
       "      <td>8.000000</td>\n",
       "      <td>6.000000</td>\n",
       "      <td>512.329200</td>\n",
       "    </tr>\n",
       "  </tbody>\n",
       "</table>\n",
       "</div>"
      ],
      "text/plain": [
       "       PassengerId    Survived      Pclass         Age       SibSp  \\\n",
       "count   891.000000  891.000000  891.000000  714.000000  891.000000   \n",
       "mean    446.000000    0.383838    2.308642   29.699118    0.523008   \n",
       "std     257.353842    0.486592    0.836071   14.526497    1.102743   \n",
       "min       1.000000    0.000000    1.000000    0.420000    0.000000   \n",
       "25%     223.500000    0.000000    2.000000   20.125000    0.000000   \n",
       "50%     446.000000    0.000000    3.000000   28.000000    0.000000   \n",
       "75%     668.500000    1.000000    3.000000   38.000000    1.000000   \n",
       "max     891.000000    1.000000    3.000000   80.000000    8.000000   \n",
       "\n",
       "            Parch        Fare  \n",
       "count  891.000000  891.000000  \n",
       "mean     0.381594   32.204208  \n",
       "std      0.806057   49.693429  \n",
       "min      0.000000    0.000000  \n",
       "25%      0.000000    7.910400  \n",
       "50%      0.000000   14.454200  \n",
       "75%      0.000000   31.000000  \n",
       "max      6.000000  512.329200  "
      ]
     },
     "execution_count": 5,
     "metadata": {},
     "output_type": "execute_result"
    }
   ],
   "source": [
    "train_data.describe()"
   ]
  },
  {
   "cell_type": "code",
   "execution_count": 6,
   "id": "b233239a",
   "metadata": {
    "execution": {
     "iopub.execute_input": "2023-04-20T09:54:03.828212Z",
     "iopub.status.busy": "2023-04-20T09:54:03.827550Z",
     "iopub.status.idle": "2023-04-20T09:54:03.836368Z",
     "shell.execute_reply": "2023-04-20T09:54:03.835487Z"
    },
    "papermill": {
     "duration": 0.024134,
     "end_time": "2023-04-20T09:54:03.838379",
     "exception": false,
     "start_time": "2023-04-20T09:54:03.814245",
     "status": "completed"
    },
    "tags": []
   },
   "outputs": [
    {
     "data": {
      "text/plain": [
       "PassengerId      0\n",
       "Survived         0\n",
       "Pclass           0\n",
       "Name             0\n",
       "Sex              0\n",
       "Age            177\n",
       "SibSp            0\n",
       "Parch            0\n",
       "Ticket           0\n",
       "Fare             0\n",
       "Cabin          687\n",
       "Embarked         2\n",
       "dtype: int64"
      ]
     },
     "execution_count": 6,
     "metadata": {},
     "output_type": "execute_result"
    }
   ],
   "source": [
    "#Check for missing values\n",
    "train_data.isnull().sum()"
   ]
  },
  {
   "cell_type": "markdown",
   "id": "de760f54",
   "metadata": {
    "papermill": {
     "duration": 0.011545,
     "end_time": "2023-04-20T09:54:03.861788",
     "exception": false,
     "start_time": "2023-04-20T09:54:03.850243",
     "status": "completed"
    },
    "tags": []
   },
   "source": [
    "There's missing data in Age, cabin and Embarked."
   ]
  },
  {
   "cell_type": "markdown",
   "id": "799f75c7",
   "metadata": {
    "papermill": {
     "duration": 0.011328,
     "end_time": "2023-04-20T09:54:03.884865",
     "exception": false,
     "start_time": "2023-04-20T09:54:03.873537",
     "status": "completed"
    },
    "tags": []
   },
   "source": [
    "What features/columns would contribute to a high survival rate? It would make sense if Sex, Age, P-class, Parch, fare, SibSp, Cabin and Embarked would be correlated with a high survival rate. "
   ]
  },
  {
   "cell_type": "markdown",
   "id": "e0331201",
   "metadata": {
    "papermill": {
     "duration": 0.011472,
     "end_time": "2023-04-20T09:54:03.908196",
     "exception": false,
     "start_time": "2023-04-20T09:54:03.896724",
     "status": "completed"
    },
    "tags": []
   },
   "source": [
    "1. Age and Sex correlation with survival rate"
   ]
  },
  {
   "cell_type": "code",
   "execution_count": 7,
   "id": "492a885c",
   "metadata": {
    "execution": {
     "iopub.execute_input": "2023-04-20T09:54:03.933763Z",
     "iopub.status.busy": "2023-04-20T09:54:03.933386Z",
     "iopub.status.idle": "2023-04-20T09:54:04.721255Z",
     "shell.execute_reply": "2023-04-20T09:54:04.720225Z"
    },
    "papermill": {
     "duration": 0.804134,
     "end_time": "2023-04-20T09:54:04.724265",
     "exception": false,
     "start_time": "2023-04-20T09:54:03.920131",
     "status": "completed"
    },
    "tags": []
   },
   "outputs": [
    {
     "data": {
      "text/plain": [
       "Text(0.5, 1.0, 'Distribution of survival rate in men')"
      ]
     },
     "execution_count": 7,
     "metadata": {},
     "output_type": "execute_result"
    },
    {
     "data": {
      "image/png": "[encoded data removed]",
      "text/plain": [
       "<Figure size 1200x500 with 2 Axes>"
      ]
     },
     "metadata": {},
     "output_type": "display_data"
    }
   ],
   "source": [
    "#Define variables\n",
    "survived = 'survived'\n",
    "not_survived = 'not survived'\n",
    "# Split data by gender\n",
    "women = train_data[train_data['Sex']== 'female']\n",
    "men = train_data[train_data['Sex']=='male']\n",
    "#Visualizing the data using subplots\n",
    "fig, axes = plt.subplots(nrows=1,ncols=2, figsize = (12, 5))\n",
    "ax = sns.histplot(women[women['Survived']== 1].Age.dropna(),bins = 20, label = 'Survived', ax = axes[0],kde= False)\n",
    "ax = sns.histplot(women[women['Survived']== 0].Age.dropna(),bins = 40, label = 'Not survived',ax = axes[0], kde= False)\n",
    "ax.legend()\n",
    "ax.set_title('Distribution of survival rate in women')\n",
    "ax = sns.histplot(men[men['Survived']== 1]. Age.dropna(), bins= 20, label = 'Survived', ax= axes[1], kde= False)\n",
    "ax = sns.histplot(men[men['Survived']== 0]. Age.dropna(), bins= 40, label = 'Not survived', ax= axes[1], kde= False)\n",
    "ax.legend()\n",
    "ax.set_title('Distribution of survival rate in men')"
   ]
  },
  {
   "cell_type": "markdown",
   "id": "0aeab543",
   "metadata": {
    "papermill": {
     "duration": 0.012101,
     "end_time": "2023-04-20T09:54:04.749060",
     "exception": false,
     "start_time": "2023-04-20T09:54:04.736959",
     "status": "completed"
    },
    "tags": []
   },
   "source": [
    "From the distribution above it is clear that gender is highly correlated with survival rate. Women aged 14-40 are more likely to survive while in men, ages 18-30 have a high probability of surviving"
   ]
  },
  {
   "cell_type": "markdown",
   "id": "1479b7dd",
   "metadata": {
    "papermill": {
     "duration": 0.012498,
     "end_time": "2023-04-20T09:54:04.773908",
     "exception": false,
     "start_time": "2023-04-20T09:54:04.761410",
     "status": "completed"
    },
    "tags": []
   },
   "source": [
    "2. Embarked,P-Class and Sex"
   ]
  },
  {
   "cell_type": "code",
   "execution_count": 8,
   "id": "dd35ca92",
   "metadata": {
    "execution": {
     "iopub.execute_input": "2023-04-20T09:54:04.801171Z",
     "iopub.status.busy": "2023-04-20T09:54:04.800735Z",
     "iopub.status.idle": "2023-04-20T09:54:05.726165Z",
     "shell.execute_reply": "2023-04-20T09:54:05.725281Z"
    },
    "papermill": {
     "duration": 0.941707,
     "end_time": "2023-04-20T09:54:05.728273",
     "exception": false,
     "start_time": "2023-04-20T09:54:04.786566",
     "status": "completed"
    },
    "tags": []
   },
   "outputs": [
    {
     "data": {
      "text/plain": [
       "<seaborn.axisgrid.FacetGrid at 0x7854e7db1650>"
      ]
     },
     "execution_count": 8,
     "metadata": {},
     "output_type": "execute_result"
    },
    {
     "data": {
      "image/png": "[encoded data removed]",
      "text/plain": [
       "<Figure size 1598x500 with 3 Axes>"
      ]
     },
     "metadata": {},
     "output_type": "display_data"
    }
   ],
   "source": [
    "sns.catplot(data= train_data, x= 'Pclass', y='Survived', hue= 'Sex',col= 'Embarked',kind= 'bar')\n"
   ]
  },
  {
   "cell_type": "markdown",
   "id": "07ab0eba",
   "metadata": {
    "papermill": {
     "duration": 0.011832,
     "end_time": "2023-04-20T09:54:05.752757",
     "exception": false,
     "start_time": "2023-04-20T09:54:05.740925",
     "status": "completed"
    },
    "tags": []
   },
   "source": [
    "Ports used to embark the Titanic somewhat influenced the survival rates especially gender-wise. Women had a high chance of survival if they embarked at port Q while men had a higher chance at Port C. I will show the correlation of P-class and Survival rate exclusively.`"
   ]
  },
  {
   "cell_type": "markdown",
   "id": "a0c60665",
   "metadata": {
    "papermill": {
     "duration": 0.012717,
     "end_time": "2023-04-20T09:54:05.778175",
     "exception": false,
     "start_time": "2023-04-20T09:54:05.765458",
     "status": "completed"
    },
    "tags": []
   },
   "source": [
    "3. P-class"
   ]
  },
  {
   "cell_type": "code",
   "execution_count": 9,
   "id": "b79cedc6",
   "metadata": {
    "execution": {
     "iopub.execute_input": "2023-04-20T09:54:05.806010Z",
     "iopub.status.busy": "2023-04-20T09:54:05.805346Z",
     "iopub.status.idle": "2023-04-20T09:54:06.021665Z",
     "shell.execute_reply": "2023-04-20T09:54:06.020773Z"
    },
    "papermill": {
     "duration": 0.232953,
     "end_time": "2023-04-20T09:54:06.024145",
     "exception": false,
     "start_time": "2023-04-20T09:54:05.791192",
     "status": "completed"
    },
    "tags": []
   },
   "outputs": [
    {
     "data": {
      "text/plain": [
       "<AxesSubplot:xlabel='Pclass', ylabel='Survived'>"
      ]
     },
     "execution_count": 9,
     "metadata": {},
     "output_type": "execute_result"
    },
    {
     "data": {
      "image/png": "[encoded data removed]",
      "text/plain": [
       "<Figure size 640x480 with 1 Axes>"
      ]
     },
     "metadata": {},
     "output_type": "display_data"
    }
   ],
   "source": [
    "sns.barplot(data= train_data, x= 'Pclass',y= 'Survived')"
   ]
  },
  {
   "cell_type": "markdown",
   "id": "e2cf9233",
   "metadata": {
    "papermill": {
     "duration": 0.013486,
     "end_time": "2023-04-20T09:54:06.051347",
     "exception": false,
     "start_time": "2023-04-20T09:54:06.037861",
     "status": "completed"
    },
    "tags": []
   },
   "source": [
    "Pclass influences survival rates. With high probability of survival in Pclass 1 and the lowest in 3"
   ]
  },
  {
   "cell_type": "markdown",
   "id": "a792f66f",
   "metadata": {
    "papermill": {
     "duration": 0.012709,
     "end_time": "2023-04-20T09:54:06.076439",
     "exception": false,
     "start_time": "2023-04-20T09:54:06.063730",
     "status": "completed"
    },
    "tags": []
   },
   "source": [
    "4. SibSp and Parch\n",
    "It makes sense if these two variables are analysed together as it influences the number of relatives abode which can have an effect on probability of survival "
   ]
  },
  {
   "cell_type": "code",
   "execution_count": 10,
   "id": "796e924d",
   "metadata": {
    "execution": {
     "iopub.execute_input": "2023-04-20T09:54:06.104804Z",
     "iopub.status.busy": "2023-04-20T09:54:06.104415Z",
     "iopub.status.idle": "2023-04-20T09:54:06.532142Z",
     "shell.execute_reply": "2023-04-20T09:54:06.530945Z"
    },
    "papermill": {
     "duration": 0.44478,
     "end_time": "2023-04-20T09:54:06.534450",
     "exception": false,
     "start_time": "2023-04-20T09:54:06.089670",
     "status": "completed"
    },
    "tags": []
   },
   "outputs": [
    {
     "data": {
      "text/plain": [
       "<seaborn.axisgrid.FacetGrid at 0x7854f1ae3d50>"
      ]
     },
     "execution_count": 10,
     "metadata": {},
     "output_type": "execute_result"
    },
    {
     "data": {
      "image/png": "[encoded data removed]",
      "text/plain": [
       "<Figure size 1250x500 with 1 Axes>"
      ]
     },
     "metadata": {},
     "output_type": "display_data"
    }
   ],
   "source": [
    "#Counts of People who were travelling alone vs those who had a relative onboard\n",
    "train_data['Relatives'] = train_data['SibSp'] + train_data['Parch']\n",
    "test_data['Relatives'] = test_data['SibSp'] + test_data['Parch']\n",
    "train_data['NotAlone'] = train_data['Relatives'].apply(lambda x: 0 if x > 0 else 1).astype(int)\n",
    "train_data['NotAlone'].value_counts()\n",
    "\n",
    "#Plot \n",
    "sns.catplot(data=train_data, x='Relatives', y='Survived', kind='point', aspect=2.5)"
   ]
  },
  {
   "cell_type": "markdown",
   "id": "27dff881",
   "metadata": {
    "papermill": {
     "duration": 0.014175,
     "end_time": "2023-04-20T09:54:06.562967",
     "exception": false,
     "start_time": "2023-04-20T09:54:06.548792",
     "status": "completed"
    },
    "tags": []
   },
   "source": [
    "The number of relatives influences survival rates differently. With high survival rates being observed if you had 1 to 3 relatives and lower if you had 0 or more than three relatives."
   ]
  },
  {
   "cell_type": "markdown",
   "id": "8ea67101",
   "metadata": {
    "papermill": {
     "duration": 0.01393,
     "end_time": "2023-04-20T09:54:06.591025",
     "exception": false,
     "start_time": "2023-04-20T09:54:06.577095",
     "status": "completed"
    },
    "tags": []
   },
   "source": [
    "**Data Pre-processing.**"
   ]
  },
  {
   "cell_type": "code",
   "execution_count": 11,
   "id": "9f5de61e",
   "metadata": {
    "execution": {
     "iopub.execute_input": "2023-04-20T09:54:06.621456Z",
     "iopub.status.busy": "2023-04-20T09:54:06.620431Z",
     "iopub.status.idle": "2023-04-20T09:54:06.634024Z",
     "shell.execute_reply": "2023-04-20T09:54:06.633253Z"
    },
    "papermill": {
     "duration": 0.031073,
     "end_time": "2023-04-20T09:54:06.636363",
     "exception": false,
     "start_time": "2023-04-20T09:54:06.605290",
     "status": "completed"
    },
    "tags": []
   },
   "outputs": [],
   "source": [
    "#Missing data\n",
    "#Cabin data\n",
    "import re\n",
    "Deck = {\"A\": 1,\"B\" : 2, \"C\" : 3, \"D\": 4, \"E\" : 5,\"F\" : 6, \"G\": 7, \"U\": 8}\n",
    "data = [train_data, test_data]\n",
    "for dataset in data:\n",
    "    dataset['Deck']= dataset['Cabin'].str.extract('([A-Za-z])',expand = False)\n",
    "    dataset['Deck']= dataset['Deck'].map(Deck)\n",
    "    dataset['Deck']= dataset['Deck'].fillna(0)\n",
    "    dataset['Deck']= dataset['Deck'].astype(int)\n",
    "    dataset.drop('Cabin',axis=1,inplace=True)\n",
    "\n"
   ]
  },
  {
   "cell_type": "markdown",
   "id": "efe154e8",
   "metadata": {
    "papermill": {
     "duration": 0.013798,
     "end_time": "2023-04-20T09:54:06.664152",
     "exception": false,
     "start_time": "2023-04-20T09:54:06.650354",
     "status": "completed"
    },
    "tags": []
   },
   "source": [
    "I created a dictionary so as to extract letters in the Cabin feature and assign them to values in the dictionary which is converted to integers. The Cabin feature is then dropped from the dataset"
   ]
  },
  {
   "cell_type": "code",
   "execution_count": 12,
   "id": "af467192",
   "metadata": {
    "execution": {
     "iopub.execute_input": "2023-04-20T09:54:06.693604Z",
     "iopub.status.busy": "2023-04-20T09:54:06.692644Z",
     "iopub.status.idle": "2023-04-20T09:54:06.704743Z",
     "shell.execute_reply": "2023-04-20T09:54:06.704027Z"
    },
    "papermill": {
     "duration": 0.028295,
     "end_time": "2023-04-20T09:54:06.706518",
     "exception": false,
     "start_time": "2023-04-20T09:54:06.678223",
     "status": "completed"
    },
    "tags": []
   },
   "outputs": [
    {
     "data": {
      "text/plain": [
       "0"
      ]
     },
     "execution_count": 12,
     "metadata": {},
     "output_type": "execute_result"
    }
   ],
   "source": [
    "#Age\n",
    "import random\n",
    "for dataset in [train_data,test_data]:\n",
    "    mean_age = train_data[\"Age\"].mean()\n",
    "    std_age = test_data[\"Age\"].std()\n",
    "    num_null= dataset[\"Age\"].isnull().sum()\n",
    "    #Generate random values using mean and standard deviation\n",
    "    random_ages = [random.uniform(mean_age - std_age, mean_age + std_age)for i in range(num_null)]\n",
    "    dataset.loc[np.isnan(dataset[\"Age\"]), \"Age\"] = random_ages\n",
    "    dataset[\"Age\"]= dataset[\"Age\"].astype(int)\n",
    "train_data[\"Age\"].isnull().sum()"
   ]
  },
  {
   "cell_type": "markdown",
   "id": "4b937833",
   "metadata": {
    "papermill": {
     "duration": 0.013247,
     "end_time": "2023-04-20T09:54:06.733332",
     "exception": false,
     "start_time": "2023-04-20T09:54:06.720085",
     "status": "completed"
    },
    "tags": []
   },
   "source": [
    "I generate random values based on the mean of ages in the train data and standard deviation in the test_data used to fill the NaN values in the train_data Age column. "
   ]
  },
  {
   "cell_type": "code",
   "execution_count": 13,
   "id": "95423b2d",
   "metadata": {
    "execution": {
     "iopub.execute_input": "2023-04-20T09:54:06.761002Z",
     "iopub.status.busy": "2023-04-20T09:54:06.760584Z",
     "iopub.status.idle": "2023-04-20T09:54:06.769869Z",
     "shell.execute_reply": "2023-04-20T09:54:06.768792Z"
    },
    "papermill": {
     "duration": 0.025958,
     "end_time": "2023-04-20T09:54:06.772119",
     "exception": false,
     "start_time": "2023-04-20T09:54:06.746161",
     "status": "completed"
    },
    "tags": []
   },
   "outputs": [],
   "source": [
    "#Embarked\n",
    "train_data['Embarked'].describe()\n",
    "#Fill missing values with the most common value\n",
    "common_port = \"S\"\n",
    "for dataset in [train_data, test_data]:\n",
    "    dataset[\"Embarked\"] = dataset[\"Embarked\"].fillna(common_port)"
   ]
  },
  {
   "cell_type": "markdown",
   "id": "5494d3cb",
   "metadata": {
    "papermill": {
     "duration": 0.01409,
     "end_time": "2023-04-20T09:54:06.800473",
     "exception": false,
     "start_time": "2023-04-20T09:54:06.786383",
     "status": "completed"
    },
    "tags": []
   },
   "source": [
    "**Converting Features**"
   ]
  },
  {
   "cell_type": "markdown",
   "id": "8ac36613",
   "metadata": {
    "papermill": {
     "duration": 0.013686,
     "end_time": "2023-04-20T09:54:06.828214",
     "exception": false,
     "start_time": "2023-04-20T09:54:06.814528",
     "status": "completed"
    },
    "tags": []
   },
   "source": [
    "1. Fare\n",
    "Converting fare to integers"
   ]
  },
  {
   "cell_type": "code",
   "execution_count": 14,
   "id": "ef6dd6ff",
   "metadata": {
    "execution": {
     "iopub.execute_input": "2023-04-20T09:54:06.858062Z",
     "iopub.status.busy": "2023-04-20T09:54:06.857616Z",
     "iopub.status.idle": "2023-04-20T09:54:06.864130Z",
     "shell.execute_reply": "2023-04-20T09:54:06.863359Z"
    },
    "papermill": {
     "duration": 0.024025,
     "end_time": "2023-04-20T09:54:06.866098",
     "exception": false,
     "start_time": "2023-04-20T09:54:06.842073",
     "status": "completed"
    },
    "tags": []
   },
   "outputs": [],
   "source": [
    "for dataset in [train_data, test_data]:\n",
    "    dataset[\"Fare\"] = dataset[\"Fare\"].fillna(0)\n",
    "    dataset[\"Fare\"] = dataset[\"Fare\"].astype(int)"
   ]
  },
  {
   "cell_type": "markdown",
   "id": "24e90f2e",
   "metadata": {
    "papermill": {
     "duration": 0.013604,
     "end_time": "2023-04-20T09:54:06.893699",
     "exception": false,
     "start_time": "2023-04-20T09:54:06.880095",
     "status": "completed"
    },
    "tags": []
   },
   "source": [
    "2. Sex\n",
    "Assigning dummy variables to Sex and converting to numeric"
   ]
  },
  {
   "cell_type": "code",
   "execution_count": 15,
   "id": "badbc598",
   "metadata": {
    "execution": {
     "iopub.execute_input": "2023-04-20T09:54:06.923284Z",
     "iopub.status.busy": "2023-04-20T09:54:06.922230Z",
     "iopub.status.idle": "2023-04-20T09:54:06.929465Z",
     "shell.execute_reply": "2023-04-20T09:54:06.928743Z"
    },
    "papermill": {
     "duration": 0.02412,
     "end_time": "2023-04-20T09:54:06.931425",
     "exception": false,
     "start_time": "2023-04-20T09:54:06.907305",
     "status": "completed"
    },
    "tags": []
   },
   "outputs": [],
   "source": [
    "Gender = {\"male\":0, \"female\":1}\n",
    "for dataset in [train_data, test_data]:\n",
    "    dataset[\"Sex\"] = dataset[\"Sex\"].map(Gender)"
   ]
  },
  {
   "cell_type": "markdown",
   "id": "f3cdd8a4",
   "metadata": {
    "papermill": {
     "duration": 0.013317,
     "end_time": "2023-04-20T09:54:06.959010",
     "exception": false,
     "start_time": "2023-04-20T09:54:06.945693",
     "status": "completed"
    },
    "tags": []
   },
   "source": [
    "3. Embarked\n",
    "Converting embarked feature to numeric"
   ]
  },
  {
   "cell_type": "code",
   "execution_count": 16,
   "id": "62ba8a56",
   "metadata": {
    "execution": {
     "iopub.execute_input": "2023-04-20T09:54:06.989219Z",
     "iopub.status.busy": "2023-04-20T09:54:06.988780Z",
     "iopub.status.idle": "2023-04-20T09:54:06.995600Z",
     "shell.execute_reply": "2023-04-20T09:54:06.994861Z"
    },
    "papermill": {
     "duration": 0.024061,
     "end_time": "2023-04-20T09:54:06.997510",
     "exception": false,
     "start_time": "2023-04-20T09:54:06.973449",
     "status": "completed"
    },
    "tags": []
   },
   "outputs": [],
   "source": [
    "ports = {\"S\": 0, \"C\": 1, \"Q\": 2}\n",
    "for dataset in [train_data, test_data]:\n",
    "    dataset[\"Embarked\"] = dataset[\"Embarked\"].map(ports)"
   ]
  },
  {
   "cell_type": "markdown",
   "id": "8e67ff44",
   "metadata": {
    "papermill": {
     "duration": 0.013314,
     "end_time": "2023-04-20T09:54:07.023814",
     "exception": false,
     "start_time": "2023-04-20T09:54:07.010500",
     "status": "completed"
    },
    "tags": []
   },
   "source": [
    "4. Name\n",
    "Extracting titles in Names and converting them to numeric"
   ]
  },
  {
   "cell_type": "code",
   "execution_count": 17,
   "id": "d3cd18b5",
   "metadata": {
    "execution": {
     "iopub.execute_input": "2023-04-20T09:54:07.051790Z",
     "iopub.status.busy": "2023-04-20T09:54:07.051243Z",
     "iopub.status.idle": "2023-04-20T09:54:07.068941Z",
     "shell.execute_reply": "2023-04-20T09:54:07.068109Z"
    },
    "papermill": {
     "duration": 0.034081,
     "end_time": "2023-04-20T09:54:07.070949",
     "exception": false,
     "start_time": "2023-04-20T09:54:07.036868",
     "status": "completed"
    },
    "tags": []
   },
   "outputs": [],
   "source": [
    "titles = {\"Mr\": 1, \"Miss\": 2, \"Mrs\": 3, \"Master\": 4, \"Rare\": 5}\n",
    "\n",
    "for dataset in [train_data, test_data]:\n",
    "    # extract titles using regular expression\n",
    "    dataset['Title'] = dataset['Name'].str.extract(' ([A-Za-z]+)\\.', expand=False)\n",
    "    # replace uncommon titles with \"Rare\"\n",
    "    dataset['Title'] = dataset['Title'].replace(['Lady', 'Countess', 'Capt', 'Col', 'Don',\n",
    "                                                 'Dr', 'Major', 'Rev', 'Sir', 'Jonkheer', 'Dona'], 'Rare')\n",
    "    dataset['Title'] = dataset['Title'].replace({'Mlle': 'Miss', 'Ms': 'Miss', 'Mme': 'Mrs'})\n",
    "    # convert titles into numbers\n",
    "    dataset['Title'] = dataset['Title'].map(titles).fillna(0).astype(int)\n",
    "    # drop the Name column\n",
    "    dataset.drop('Name', axis=1, inplace=True)\n",
    "\n",
    "    "
   ]
  },
  {
   "cell_type": "code",
   "execution_count": 18,
   "id": "e4f60140",
   "metadata": {
    "execution": {
     "iopub.execute_input": "2023-04-20T09:54:07.099561Z",
     "iopub.status.busy": "2023-04-20T09:54:07.099079Z",
     "iopub.status.idle": "2023-04-20T09:54:07.110267Z",
     "shell.execute_reply": "2023-04-20T09:54:07.108751Z"
    },
    "papermill": {
     "duration": 0.028126,
     "end_time": "2023-04-20T09:54:07.112381",
     "exception": false,
     "start_time": "2023-04-20T09:54:07.084255",
     "status": "completed"
    },
    "tags": []
   },
   "outputs": [
    {
     "name": "stdout",
     "output_type": "stream",
     "text": [
      "<class 'pandas.core.frame.DataFrame'>\n",
      "RangeIndex: 891 entries, 0 to 890\n",
      "Data columns (total 14 columns):\n",
      " #   Column       Non-Null Count  Dtype \n",
      "---  ------       --------------  ----- \n",
      " 0   PassengerId  891 non-null    int64 \n",
      " 1   Survived     891 non-null    int64 \n",
      " 2   Pclass       891 non-null    int64 \n",
      " 3   Sex          891 non-null    int64 \n",
      " 4   Age          891 non-null    int64 \n",
      " 5   SibSp        891 non-null    int64 \n",
      " 6   Parch        891 non-null    int64 \n",
      " 7   Ticket       891 non-null    object\n",
      " 8   Fare         891 non-null    int64 \n",
      " 9   Embarked     891 non-null    int64 \n",
      " 10  Relatives    891 non-null    int64 \n",
      " 11  NotAlone     891 non-null    int64 \n",
      " 12  Deck         891 non-null    int64 \n",
      " 13  Title        891 non-null    int64 \n",
      "dtypes: int64(13), object(1)\n",
      "memory usage: 97.6+ KB\n"
     ]
    }
   ],
   "source": [
    "train_data.info()"
   ]
  },
  {
   "cell_type": "markdown",
   "id": "90979b8d",
   "metadata": {
    "papermill": {
     "duration": 0.013086,
     "end_time": "2023-04-20T09:54:07.139220",
     "exception": false,
     "start_time": "2023-04-20T09:54:07.126134",
     "status": "completed"
    },
    "tags": []
   },
   "source": [
    "**Dropping unnecessary variables**"
   ]
  },
  {
   "cell_type": "code",
   "execution_count": 19,
   "id": "10d6ffaa",
   "metadata": {
    "execution": {
     "iopub.execute_input": "2023-04-20T09:54:07.166850Z",
     "iopub.status.busy": "2023-04-20T09:54:07.166515Z",
     "iopub.status.idle": "2023-04-20T09:54:07.172838Z",
     "shell.execute_reply": "2023-04-20T09:54:07.171818Z"
    },
    "papermill": {
     "duration": 0.022362,
     "end_time": "2023-04-20T09:54:07.175007",
     "exception": false,
     "start_time": "2023-04-20T09:54:07.152645",
     "status": "completed"
    },
    "tags": []
   },
   "outputs": [],
   "source": [
    "for dataset in [train_data, test_data]:\n",
    "    dataset.drop('Ticket', axis=1, inplace=True)"
   ]
  },
  {
   "cell_type": "code",
   "execution_count": 20,
   "id": "ff74fcc3",
   "metadata": {
    "execution": {
     "iopub.execute_input": "2023-04-20T09:54:07.201841Z",
     "iopub.status.busy": "2023-04-20T09:54:07.201358Z",
     "iopub.status.idle": "2023-04-20T09:54:07.205814Z",
     "shell.execute_reply": "2023-04-20T09:54:07.205054Z"
    },
    "papermill": {
     "duration": 0.019715,
     "end_time": "2023-04-20T09:54:07.207620",
     "exception": false,
     "start_time": "2023-04-20T09:54:07.187905",
     "status": "completed"
    },
    "tags": []
   },
   "outputs": [],
   "source": [
    "train_data = train_data.drop(['PassengerId'], axis=1)"
   ]
  },
  {
   "cell_type": "markdown",
   "id": "62b22d86",
   "metadata": {
    "papermill": {
     "duration": 0.01271,
     "end_time": "2023-04-20T09:54:07.232985",
     "exception": false,
     "start_time": "2023-04-20T09:54:07.220275",
     "status": "completed"
    },
    "tags": []
   },
   "source": [
    "**Creating Categories**\n",
    "Categorizing the fare price and age helps to reduce the impact of outliers or extreme values, which may skew the results or make it difficult to draw meaningful conclusions. I create age brackets and fare groups instead of removing outliers because in this case it would affect the prediction."
   ]
  },
  {
   "cell_type": "markdown",
   "id": "112c0f8e",
   "metadata": {
    "papermill": {
     "duration": 0.012615,
     "end_time": "2023-04-20T09:54:07.258319",
     "exception": false,
     "start_time": "2023-04-20T09:54:07.245704",
     "status": "completed"
    },
    "tags": []
   },
   "source": [
    "1. Age"
   ]
  },
  {
   "cell_type": "code",
   "execution_count": 21,
   "id": "6a048234",
   "metadata": {
    "execution": {
     "iopub.execute_input": "2023-04-20T09:54:07.286194Z",
     "iopub.status.busy": "2023-04-20T09:54:07.285608Z",
     "iopub.status.idle": "2023-04-20T09:54:07.301558Z",
     "shell.execute_reply": "2023-04-20T09:54:07.300303Z"
    },
    "papermill": {
     "duration": 0.032431,
     "end_time": "2023-04-20T09:54:07.303590",
     "exception": false,
     "start_time": "2023-04-20T09:54:07.271159",
     "status": "completed"
    },
    "tags": []
   },
   "outputs": [
    {
     "data": {
      "text/plain": [
       "4    188\n",
       "3    186\n",
       "5    143\n",
       "1    120\n",
       "6     93\n",
       "2     84\n",
       "0     62\n",
       "Name: AgeGroup, dtype: int64"
      ]
     },
     "execution_count": 21,
     "metadata": {},
     "output_type": "execute_result"
    }
   ],
   "source": [
    "for dataset in [train_data, test_data]:\n",
    "    dataset['AgeGroup'] = pd.cut(dataset['Age'], [0, 12, 19, 22, 29, 36, 45, 65], labels=[0, 1, 2, 3, 4, 5, 6])\n",
    "    dataset.drop('Age', axis=1,inplace= True)\n",
    "train_data['AgeGroup'].value_counts()\n"
   ]
  },
  {
   "cell_type": "markdown",
   "id": "fd5120b9",
   "metadata": {
    "papermill": {
     "duration": 0.012827,
     "end_time": "2023-04-20T09:54:07.329833",
     "exception": false,
     "start_time": "2023-04-20T09:54:07.317006",
     "status": "completed"
    },
    "tags": []
   },
   "source": [
    "2. Fare"
   ]
  },
  {
   "cell_type": "code",
   "execution_count": 22,
   "id": "6b105d1c",
   "metadata": {
    "execution": {
     "iopub.execute_input": "2023-04-20T09:54:07.357510Z",
     "iopub.status.busy": "2023-04-20T09:54:07.357146Z",
     "iopub.status.idle": "2023-04-20T09:54:07.363428Z",
     "shell.execute_reply": "2023-04-20T09:54:07.362751Z"
    },
    "papermill": {
     "duration": 0.02242,
     "end_time": "2023-04-20T09:54:07.365212",
     "exception": false,
     "start_time": "2023-04-20T09:54:07.342792",
     "status": "completed"
    },
    "tags": []
   },
   "outputs": [],
   "source": [
    "for dataset in [train_data, test_data]:\n",
    "    dataset['Fare'] = dataset['Fare'].fillna(0)\n",
    "    dataset['Fare'] = dataset['Fare'].astype(int)\n"
   ]
  },
  {
   "cell_type": "code",
   "execution_count": 23,
   "id": "f88c700c",
   "metadata": {
    "execution": {
     "iopub.execute_input": "2023-04-20T09:54:07.393239Z",
     "iopub.status.busy": "2023-04-20T09:54:07.392204Z",
     "iopub.status.idle": "2023-04-20T09:54:07.407978Z",
     "shell.execute_reply": "2023-04-20T09:54:07.406959Z"
    },
    "papermill": {
     "duration": 0.032135,
     "end_time": "2023-04-20T09:54:07.410246",
     "exception": false,
     "start_time": "2023-04-20T09:54:07.378111",
     "status": "completed"
    },
    "tags": []
   },
   "outputs": [],
   "source": [
    "for dataset in [train_data, test_data]: \n",
    "    dataset['Fare'] = pd.to_numeric(dataset['Fare'], errors='coerce')\n",
    "    dataset.loc[ dataset['Fare'] <= 7.91, 'Fare'] = 0\n",
    "    dataset.loc[(dataset['Fare'] > 7.91) & (dataset['Fare'] <= 14.454), 'Fare'] = 1\n",
    "    dataset.loc[(dataset['Fare'] > 14.454) & (dataset['Fare'] <= 31), 'Fare']   = 2\n",
    "    dataset.loc[(dataset['Fare'] > 31) & (dataset['Fare'] <= 99), 'Fare']   = 3\n",
    "    dataset.loc[(dataset['Fare'] > 99) & (dataset['Fare'] <= 250), 'Fare']   = 4\n",
    "    dataset.loc[ dataset['Fare'] > 250, 'Fare'] = 5\n",
    "    dataset['Fare'] = dataset['Fare'].astype(int)"
   ]
  },
  {
   "cell_type": "markdown",
   "id": "4c85634a",
   "metadata": {
    "papermill": {
     "duration": 0.013167,
     "end_time": "2023-04-20T09:54:07.436815",
     "exception": false,
     "start_time": "2023-04-20T09:54:07.423648",
     "status": "completed"
    },
    "tags": []
   },
   "source": [
    "**Creating a New feature**\n",
    "1. Fare Per Person"
   ]
  },
  {
   "cell_type": "code",
   "execution_count": 24,
   "id": "3fe417cd",
   "metadata": {
    "execution": {
     "iopub.execute_input": "2023-04-20T09:54:07.465532Z",
     "iopub.status.busy": "2023-04-20T09:54:07.465202Z",
     "iopub.status.idle": "2023-04-20T09:54:07.498251Z",
     "shell.execute_reply": "2023-04-20T09:54:07.497200Z"
    },
    "papermill": {
     "duration": 0.049738,
     "end_time": "2023-04-20T09:54:07.500466",
     "exception": false,
     "start_time": "2023-04-20T09:54:07.450728",
     "status": "completed"
    },
    "tags": []
   },
   "outputs": [],
   "source": [
    "for dataset in [train_data, test_data]:\n",
    "    dataset['Fare_Per_Person'] = dataset.apply(lambda row: row['Fare'] / (row['Relatives'] + 1), axis=1)\n",
    "    dataset['Fare_Per_Person'] = dataset['Fare_Per_Person'].astype(int)"
   ]
  },
  {
   "cell_type": "code",
   "execution_count": 25,
   "id": "3291720a",
   "metadata": {
    "execution": {
     "iopub.execute_input": "2023-04-20T09:54:07.528984Z",
     "iopub.status.busy": "2023-04-20T09:54:07.528636Z",
     "iopub.status.idle": "2023-04-20T09:54:07.545751Z",
     "shell.execute_reply": "2023-04-20T09:54:07.544614Z"
    },
    "papermill": {
     "duration": 0.034244,
     "end_time": "2023-04-20T09:54:07.548115",
     "exception": false,
     "start_time": "2023-04-20T09:54:07.513871",
     "status": "completed"
    },
    "tags": []
   },
   "outputs": [
    {
     "data": {
      "text/html": [
       "<div>\n",
       "<style scoped>\n",
       "    .dataframe tbody tr th:only-of-type {\n",
       "        vertical-align: middle;\n",
       "    }\n",
       "\n",
       "    .dataframe tbody tr th {\n",
       "        vertical-align: top;\n",
       "    }\n",
       "\n",
       "    .dataframe thead th {\n",
       "        text-align: right;\n",
       "    }\n",
       "</style>\n",
       "<table border=\"1\" class=\"dataframe\">\n",
       "  <thead>\n",
       "    <tr style=\"text-align: right;\">\n",
       "      <th></th>\n",
       "      <th>Survived</th>\n",
       "      <th>Pclass</th>\n",
       "      <th>Sex</th>\n",
       "      <th>SibSp</th>\n",
       "      <th>Parch</th>\n",
       "      <th>Fare</th>\n",
       "      <th>Embarked</th>\n",
       "      <th>Relatives</th>\n",
       "      <th>NotAlone</th>\n",
       "      <th>Deck</th>\n",
       "      <th>Title</th>\n",
       "      <th>AgeGroup</th>\n",
       "      <th>Fare_Per_Person</th>\n",
       "    </tr>\n",
       "  </thead>\n",
       "  <tbody>\n",
       "    <tr>\n",
       "      <th>0</th>\n",
       "      <td>0</td>\n",
       "      <td>3</td>\n",
       "      <td>0</td>\n",
       "      <td>1</td>\n",
       "      <td>0</td>\n",
       "      <td>0</td>\n",
       "      <td>0</td>\n",
       "      <td>1</td>\n",
       "      <td>0</td>\n",
       "      <td>0</td>\n",
       "      <td>1</td>\n",
       "      <td>2</td>\n",
       "      <td>0</td>\n",
       "    </tr>\n",
       "    <tr>\n",
       "      <th>1</th>\n",
       "      <td>1</td>\n",
       "      <td>1</td>\n",
       "      <td>1</td>\n",
       "      <td>1</td>\n",
       "      <td>0</td>\n",
       "      <td>3</td>\n",
       "      <td>1</td>\n",
       "      <td>1</td>\n",
       "      <td>0</td>\n",
       "      <td>3</td>\n",
       "      <td>3</td>\n",
       "      <td>5</td>\n",
       "      <td>1</td>\n",
       "    </tr>\n",
       "    <tr>\n",
       "      <th>2</th>\n",
       "      <td>1</td>\n",
       "      <td>3</td>\n",
       "      <td>1</td>\n",
       "      <td>0</td>\n",
       "      <td>0</td>\n",
       "      <td>0</td>\n",
       "      <td>0</td>\n",
       "      <td>0</td>\n",
       "      <td>1</td>\n",
       "      <td>0</td>\n",
       "      <td>2</td>\n",
       "      <td>3</td>\n",
       "      <td>0</td>\n",
       "    </tr>\n",
       "    <tr>\n",
       "      <th>3</th>\n",
       "      <td>1</td>\n",
       "      <td>1</td>\n",
       "      <td>1</td>\n",
       "      <td>1</td>\n",
       "      <td>0</td>\n",
       "      <td>3</td>\n",
       "      <td>0</td>\n",
       "      <td>1</td>\n",
       "      <td>0</td>\n",
       "      <td>3</td>\n",
       "      <td>3</td>\n",
       "      <td>4</td>\n",
       "      <td>1</td>\n",
       "    </tr>\n",
       "    <tr>\n",
       "      <th>4</th>\n",
       "      <td>0</td>\n",
       "      <td>3</td>\n",
       "      <td>0</td>\n",
       "      <td>0</td>\n",
       "      <td>0</td>\n",
       "      <td>1</td>\n",
       "      <td>0</td>\n",
       "      <td>0</td>\n",
       "      <td>1</td>\n",
       "      <td>0</td>\n",
       "      <td>1</td>\n",
       "      <td>4</td>\n",
       "      <td>1</td>\n",
       "    </tr>\n",
       "    <tr>\n",
       "      <th>...</th>\n",
       "      <td>...</td>\n",
       "      <td>...</td>\n",
       "      <td>...</td>\n",
       "      <td>...</td>\n",
       "      <td>...</td>\n",
       "      <td>...</td>\n",
       "      <td>...</td>\n",
       "      <td>...</td>\n",
       "      <td>...</td>\n",
       "      <td>...</td>\n",
       "      <td>...</td>\n",
       "      <td>...</td>\n",
       "      <td>...</td>\n",
       "    </tr>\n",
       "    <tr>\n",
       "      <th>886</th>\n",
       "      <td>0</td>\n",
       "      <td>2</td>\n",
       "      <td>0</td>\n",
       "      <td>0</td>\n",
       "      <td>0</td>\n",
       "      <td>1</td>\n",
       "      <td>0</td>\n",
       "      <td>0</td>\n",
       "      <td>1</td>\n",
       "      <td>0</td>\n",
       "      <td>5</td>\n",
       "      <td>3</td>\n",
       "      <td>1</td>\n",
       "    </tr>\n",
       "    <tr>\n",
       "      <th>887</th>\n",
       "      <td>1</td>\n",
       "      <td>1</td>\n",
       "      <td>1</td>\n",
       "      <td>0</td>\n",
       "      <td>0</td>\n",
       "      <td>2</td>\n",
       "      <td>0</td>\n",
       "      <td>0</td>\n",
       "      <td>1</td>\n",
       "      <td>2</td>\n",
       "      <td>2</td>\n",
       "      <td>1</td>\n",
       "      <td>2</td>\n",
       "    </tr>\n",
       "    <tr>\n",
       "      <th>888</th>\n",
       "      <td>0</td>\n",
       "      <td>3</td>\n",
       "      <td>1</td>\n",
       "      <td>1</td>\n",
       "      <td>2</td>\n",
       "      <td>2</td>\n",
       "      <td>0</td>\n",
       "      <td>3</td>\n",
       "      <td>0</td>\n",
       "      <td>0</td>\n",
       "      <td>2</td>\n",
       "      <td>5</td>\n",
       "      <td>0</td>\n",
       "    </tr>\n",
       "    <tr>\n",
       "      <th>889</th>\n",
       "      <td>1</td>\n",
       "      <td>1</td>\n",
       "      <td>0</td>\n",
       "      <td>0</td>\n",
       "      <td>0</td>\n",
       "      <td>2</td>\n",
       "      <td>1</td>\n",
       "      <td>0</td>\n",
       "      <td>1</td>\n",
       "      <td>3</td>\n",
       "      <td>1</td>\n",
       "      <td>3</td>\n",
       "      <td>2</td>\n",
       "    </tr>\n",
       "    <tr>\n",
       "      <th>890</th>\n",
       "      <td>0</td>\n",
       "      <td>3</td>\n",
       "      <td>0</td>\n",
       "      <td>0</td>\n",
       "      <td>0</td>\n",
       "      <td>0</td>\n",
       "      <td>2</td>\n",
       "      <td>0</td>\n",
       "      <td>1</td>\n",
       "      <td>0</td>\n",
       "      <td>1</td>\n",
       "      <td>4</td>\n",
       "      <td>0</td>\n",
       "    </tr>\n",
       "  </tbody>\n",
       "</table>\n",
       "<p>891 rows × 13 columns</p>\n",
       "</div>"
      ],
      "text/plain": [
       "     Survived  Pclass  Sex  SibSp  Parch  Fare  Embarked  Relatives  NotAlone  \\\n",
       "0           0       3    0      1      0     0         0          1         0   \n",
       "1           1       1    1      1      0     3         1          1         0   \n",
       "2           1       3    1      0      0     0         0          0         1   \n",
       "3           1       1    1      1      0     3         0          1         0   \n",
       "4           0       3    0      0      0     1         0          0         1   \n",
       "..        ...     ...  ...    ...    ...   ...       ...        ...       ...   \n",
       "886         0       2    0      0      0     1         0          0         1   \n",
       "887         1       1    1      0      0     2         0          0         1   \n",
       "888         0       3    1      1      2     2         0          3         0   \n",
       "889         1       1    0      0      0     2         1          0         1   \n",
       "890         0       3    0      0      0     0         2          0         1   \n",
       "\n",
       "     Deck  Title AgeGroup  Fare_Per_Person  \n",
       "0       0      1        2                0  \n",
       "1       3      3        5                1  \n",
       "2       0      2        3                0  \n",
       "3       3      3        4                1  \n",
       "4       0      1        4                1  \n",
       "..    ...    ...      ...              ...  \n",
       "886     0      5        3                1  \n",
       "887     2      2        1                2  \n",
       "888     0      2        5                0  \n",
       "889     3      1        3                2  \n",
       "890     0      1        4                0  \n",
       "\n",
       "[891 rows x 13 columns]"
      ]
     },
     "execution_count": 25,
     "metadata": {},
     "output_type": "execute_result"
    }
   ],
   "source": [
    "train_data"
   ]
  },
  {
   "cell_type": "markdown",
   "id": "b94dc16e",
   "metadata": {
    "papermill": {
     "duration": 0.014351,
     "end_time": "2023-04-20T09:54:07.577404",
     "exception": false,
     "start_time": "2023-04-20T09:54:07.563053",
     "status": "completed"
    },
    "tags": []
   },
   "source": [
    "**Building a Machine Learning Model **\n",
    "Using Random Forest"
   ]
  },
  {
   "cell_type": "code",
   "execution_count": 26,
   "id": "cbcf1591",
   "metadata": {
    "execution": {
     "iopub.execute_input": "2023-04-20T09:54:07.607125Z",
     "iopub.status.busy": "2023-04-20T09:54:07.606739Z",
     "iopub.status.idle": "2023-04-20T09:54:07.614960Z",
     "shell.execute_reply": "2023-04-20T09:54:07.613839Z"
    },
    "papermill": {
     "duration": 0.025886,
     "end_time": "2023-04-20T09:54:07.617139",
     "exception": false,
     "start_time": "2023-04-20T09:54:07.591253",
     "status": "completed"
    },
    "tags": []
   },
   "outputs": [],
   "source": [
    "X_train = train_data.drop(\"Survived\", axis=1)\n",
    "Y_train = train_data[\"Survived\"]\n",
    "X_test  = test_data.drop(\"PassengerId\", axis=1).copy()"
   ]
  },
  {
   "cell_type": "code",
   "execution_count": 27,
   "id": "f74da19b",
   "metadata": {
    "execution": {
     "iopub.execute_input": "2023-04-20T09:54:07.647408Z",
     "iopub.status.busy": "2023-04-20T09:54:07.647030Z",
     "iopub.status.idle": "2023-04-20T09:54:07.886697Z",
     "shell.execute_reply": "2023-04-20T09:54:07.885270Z"
    },
    "papermill": {
     "duration": 0.257795,
     "end_time": "2023-04-20T09:54:07.889207",
     "exception": false,
     "start_time": "2023-04-20T09:54:07.631412",
     "status": "completed"
    },
    "tags": []
   },
   "outputs": [
    {
     "name": "stdout",
     "output_type": "stream",
     "text": [
      "Training accuracy of random forest classifier: 0.9281705948372615\n"
     ]
    },
    {
     "name": "stderr",
     "output_type": "stream",
     "text": [
      "/opt/conda/lib/python3.7/site-packages/sklearn/base.py:493: FutureWarning: The feature names should match those that were passed during fit. Starting version 1.2, an error will be raised.\n",
      "Feature names unseen at fit time:\n",
      "- Survived\n",
      "Feature names seen at fit time, yet now missing:\n",
      "- NotAlone\n",
      "\n",
      "  warnings.warn(message, FutureWarning)\n"
     ]
    }
   ],
   "source": [
    "random_forest = RandomForestClassifier(n_estimators=100)\n",
    "random_forest.fit(X_train, Y_train)\n",
    "\n",
    "Y_prediction = random_forest.predict(X_test)\n",
    "\n",
    "train_accuracy = random_forest.score(X_train, Y_train)\n",
    "print(\"Training accuracy of random forest classifier:\", train_accuracy)\n",
    "\n",
    "acc_random_forest = round(train_accuracy * 100, 2)"
   ]
  },
  {
   "cell_type": "markdown",
   "id": "76a61e39",
   "metadata": {
    "papermill": {
     "duration": 0.013919,
     "end_time": "2023-04-20T09:54:07.917399",
     "exception": false,
     "start_time": "2023-04-20T09:54:07.903480",
     "status": "completed"
    },
    "tags": []
   },
   "source": [
    "**Feature Selection**"
   ]
  },
  {
   "cell_type": "code",
   "execution_count": 28,
   "id": "6be08c0a",
   "metadata": {
    "execution": {
     "iopub.execute_input": "2023-04-20T09:54:07.946558Z",
     "iopub.status.busy": "2023-04-20T09:54:07.946189Z",
     "iopub.status.idle": "2023-04-20T09:54:07.968400Z",
     "shell.execute_reply": "2023-04-20T09:54:07.967513Z"
    },
    "papermill": {
     "duration": 0.039232,
     "end_time": "2023-04-20T09:54:07.970512",
     "exception": false,
     "start_time": "2023-04-20T09:54:07.931280",
     "status": "completed"
    },
    "tags": []
   },
   "outputs": [
    {
     "data": {
      "text/html": [
       "<div>\n",
       "<style scoped>\n",
       "    .dataframe tbody tr th:only-of-type {\n",
       "        vertical-align: middle;\n",
       "    }\n",
       "\n",
       "    .dataframe tbody tr th {\n",
       "        vertical-align: top;\n",
       "    }\n",
       "\n",
       "    .dataframe thead th {\n",
       "        text-align: right;\n",
       "    }\n",
       "</style>\n",
       "<table border=\"1\" class=\"dataframe\">\n",
       "  <thead>\n",
       "    <tr style=\"text-align: right;\">\n",
       "      <th></th>\n",
       "      <th>importance</th>\n",
       "    </tr>\n",
       "    <tr>\n",
       "      <th>feature</th>\n",
       "      <th></th>\n",
       "    </tr>\n",
       "  </thead>\n",
       "  <tbody>\n",
       "    <tr>\n",
       "      <th>Title</th>\n",
       "      <td>0.234</td>\n",
       "    </tr>\n",
       "    <tr>\n",
       "      <th>Sex</th>\n",
       "      <td>0.148</td>\n",
       "    </tr>\n",
       "    <tr>\n",
       "      <th>AgeGroup</th>\n",
       "      <td>0.146</td>\n",
       "    </tr>\n",
       "    <tr>\n",
       "      <th>Deck</th>\n",
       "      <td>0.090</td>\n",
       "    </tr>\n",
       "    <tr>\n",
       "      <th>Pclass</th>\n",
       "      <td>0.086</td>\n",
       "    </tr>\n",
       "    <tr>\n",
       "      <th>Fare</th>\n",
       "      <td>0.071</td>\n",
       "    </tr>\n",
       "    <tr>\n",
       "      <th>Relatives</th>\n",
       "      <td>0.060</td>\n",
       "    </tr>\n",
       "    <tr>\n",
       "      <th>Embarked</th>\n",
       "      <td>0.054</td>\n",
       "    </tr>\n",
       "    <tr>\n",
       "      <th>SibSp</th>\n",
       "      <td>0.040</td>\n",
       "    </tr>\n",
       "    <tr>\n",
       "      <th>Fare_Per_Person</th>\n",
       "      <td>0.036</td>\n",
       "    </tr>\n",
       "    <tr>\n",
       "      <th>Parch</th>\n",
       "      <td>0.025</td>\n",
       "    </tr>\n",
       "    <tr>\n",
       "      <th>NotAlone</th>\n",
       "      <td>0.011</td>\n",
       "    </tr>\n",
       "  </tbody>\n",
       "</table>\n",
       "</div>"
      ],
      "text/plain": [
       "                 importance\n",
       "feature                    \n",
       "Title                 0.234\n",
       "Sex                   0.148\n",
       "AgeGroup              0.146\n",
       "Deck                  0.090\n",
       "Pclass                0.086\n",
       "Fare                  0.071\n",
       "Relatives             0.060\n",
       "Embarked              0.054\n",
       "SibSp                 0.040\n",
       "Fare_Per_Person       0.036\n",
       "Parch                 0.025\n",
       "NotAlone              0.011"
      ]
     },
     "execution_count": 28,
     "metadata": {},
     "output_type": "execute_result"
    }
   ],
   "source": [
    "importances = pd.DataFrame()\n",
    "importances['feature'] = X_train.columns\n",
    "importances['importance'] = np.round(random_forest.feature_importances_, 3)\n",
    "importances = importances.sort_values(by='importance', ascending=False).set_index('feature')\n",
    "importances.head(15)"
   ]
  },
  {
   "cell_type": "markdown",
   "id": "9553194d",
   "metadata": {
    "papermill": {
     "duration": 0.014161,
     "end_time": "2023-04-20T09:54:07.999116",
     "exception": false,
     "start_time": "2023-04-20T09:54:07.984955",
     "status": "completed"
    },
    "tags": []
   },
   "source": [
    "Clearly Parch and not alone do not play a significnt role in the model. I will remove them and train the model again"
   ]
  },
  {
   "cell_type": "markdown",
   "id": "4d1e4956",
   "metadata": {
    "papermill": {
     "duration": 0.014485,
     "end_time": "2023-04-20T09:54:08.028056",
     "exception": false,
     "start_time": "2023-04-20T09:54:08.013571",
     "status": "completed"
    },
    "tags": []
   },
   "source": [
    "**Re-running the model**"
   ]
  },
  {
   "cell_type": "code",
   "execution_count": 29,
   "id": "46473954",
   "metadata": {
    "execution": {
     "iopub.execute_input": "2023-04-20T09:54:08.058390Z",
     "iopub.status.busy": "2023-04-20T09:54:08.058070Z",
     "iopub.status.idle": "2023-04-20T09:54:08.064287Z",
     "shell.execute_reply": "2023-04-20T09:54:08.063297Z"
    },
    "papermill": {
     "duration": 0.023994,
     "end_time": "2023-04-20T09:54:08.066360",
     "exception": false,
     "start_time": "2023-04-20T09:54:08.042366",
     "status": "completed"
    },
    "tags": []
   },
   "outputs": [],
   "source": [
    "train_df = train_data.drop('Parch', axis=1)\n",
    "test_df = test_data.drop('Parch', axis=1)\n",
    "\n"
   ]
  },
  {
   "cell_type": "markdown",
   "id": "f94a70c6",
   "metadata": {
    "papermill": {
     "duration": 0.014517,
     "end_time": "2023-04-20T09:54:08.095370",
     "exception": false,
     "start_time": "2023-04-20T09:54:08.080853",
     "status": "completed"
    },
    "tags": []
   },
   "source": [
    "**Rerunning the model**"
   ]
  },
  {
   "cell_type": "code",
   "execution_count": 30,
   "id": "c37a0f87",
   "metadata": {
    "execution": {
     "iopub.execute_input": "2023-04-20T09:54:08.127664Z",
     "iopub.status.busy": "2023-04-20T09:54:08.127077Z",
     "iopub.status.idle": "2023-04-20T09:54:08.446556Z",
     "shell.execute_reply": "2023-04-20T09:54:08.445133Z"
    },
    "papermill": {
     "duration": 0.33942,
     "end_time": "2023-04-20T09:54:08.449674",
     "exception": false,
     "start_time": "2023-04-20T09:54:08.110254",
     "status": "completed"
    },
    "tags": []
   },
   "outputs": [
    {
     "name": "stdout",
     "output_type": "stream",
     "text": [
      "92.82 %\n"
     ]
    },
    {
     "name": "stderr",
     "output_type": "stream",
     "text": [
      "/opt/conda/lib/python3.7/site-packages/sklearn/base.py:493: FutureWarning: The feature names should match those that were passed during fit. Starting version 1.2, an error will be raised.\n",
      "Feature names unseen at fit time:\n",
      "- Survived\n",
      "Feature names seen at fit time, yet now missing:\n",
      "- NotAlone\n",
      "\n",
      "  warnings.warn(message, FutureWarning)\n"
     ]
    }
   ],
   "source": [
    "random_forest = RandomForestClassifier(n_estimators=100, oob_score = True)\n",
    "random_forest.fit(X_train, Y_train)\n",
    "Y_prediction = random_forest.predict(X_test)\n",
    "\n",
    "random_forest.score(X_train, Y_train)\n",
    "\n",
    "acc_random_forest = round(random_forest.score(X_train, Y_train) * 100, 2)\n",
    "print(round(acc_random_forest,2,), \"%\")"
   ]
  },
  {
   "cell_type": "code",
   "execution_count": 31,
   "id": "e76304ba",
   "metadata": {
    "execution": {
     "iopub.execute_input": "2023-04-20T09:54:08.482614Z",
     "iopub.status.busy": "2023-04-20T09:54:08.481989Z",
     "iopub.status.idle": "2023-04-20T09:54:08.494750Z",
     "shell.execute_reply": "2023-04-20T09:54:08.493710Z"
    },
    "papermill": {
     "duration": 0.031497,
     "end_time": "2023-04-20T09:54:08.496703",
     "exception": false,
     "start_time": "2023-04-20T09:54:08.465206",
     "status": "completed"
    },
    "tags": []
   },
   "outputs": [
    {
     "name": "stdout",
     "output_type": "stream",
     "text": [
      "Submission file created\n"
     ]
    }
   ],
   "source": [
    "submission = pd.DataFrame({'PassengerId': test_data['PassengerId'], 'Survived': Y_prediction})\n",
    "submission.to_csv('submission.csv', sep=',', index=False)\n",
    "print('Submission file created')"
   ]
  },
  {
   "cell_type": "code",
   "execution_count": 32,
   "id": "62f06f9e",
   "metadata": {
    "execution": {
     "iopub.execute_input": "2023-04-20T09:54:08.527776Z",
     "iopub.status.busy": "2023-04-20T09:54:08.527314Z",
     "iopub.status.idle": "2023-04-20T09:54:08.543953Z",
     "shell.execute_reply": "2023-04-20T09:54:08.542700Z"
    },
    "papermill": {
     "duration": 0.035138,
     "end_time": "2023-04-20T09:54:08.546207",
     "exception": false,
     "start_time": "2023-04-20T09:54:08.511069",
     "status": "completed"
    },
    "tags": []
   },
   "outputs": [
    {
     "name": "stdout",
     "output_type": "stream",
     "text": [
      "<class 'pandas.core.frame.DataFrame'>\n",
      "RangeIndex: 891 entries, 0 to 890\n",
      "Data columns (total 2 columns):\n",
      " #   Column       Non-Null Count  Dtype\n",
      "---  ------       --------------  -----\n",
      " 0   PassengerId  891 non-null    int64\n",
      " 1   Survived     891 non-null    int64\n",
      "dtypes: int64(2)\n",
      "memory usage: 14.0 KB\n",
      "<class 'pandas.core.frame.DataFrame'>\n",
      "RangeIndex: 891 entries, 0 to 890\n",
      "Data columns (total 13 columns):\n",
      " #   Column           Non-Null Count  Dtype   \n",
      "---  ------           --------------  -----   \n",
      " 0   PassengerId      891 non-null    int64   \n",
      " 1   Survived         891 non-null    int64   \n",
      " 2   Pclass           891 non-null    int64   \n",
      " 3   Sex              891 non-null    int64   \n",
      " 4   SibSp            891 non-null    int64   \n",
      " 5   Parch            891 non-null    int64   \n",
      " 6   Fare             891 non-null    int64   \n",
      " 7   Embarked         891 non-null    int64   \n",
      " 8   Relatives        891 non-null    int64   \n",
      " 9   Deck             891 non-null    int64   \n",
      " 10  Title            891 non-null    int64   \n",
      " 11  AgeGroup         876 non-null    category\n",
      " 12  Fare_Per_Person  891 non-null    int64   \n",
      "dtypes: category(1), int64(12)\n",
      "memory usage: 84.9 KB\n"
     ]
    }
   ],
   "source": [
    "submission.info()\n",
    "test_data.info()"
   ]
  }
 ],
 "metadata": {
  "kernelspec": {
   "display_name": "Python 3 (ipykernel)",
   "language": "python",
   "name": "python3"
  },
  "language_info": {
   "codemirror_mode": {
    "name": "ipython",
    "version": 3
   },
   "file_extension": ".py",
   "mimetype": "text/x-python",
   "name": "python",
   "nbconvert_exporter": "python",
   "pygments_lexer": "ipython3",
   "version": "3.10.9"
  },
  "papermill": {
   "default_parameters": {},
   "duration": 16.275889,
   "end_time": "2023-04-20T09:54:09.283617",
   "environment_variables": {},
   "exception": null,
   "input_path": "__notebook__.ipynb",
   "output_path": "__notebook__.ipynb",
   "parameters": {},
   "start_time": "2023-04-20T09:53:53.007728",
   "version": "2.4.0"
  }
 },
 "nbformat": 4,
 "nbformat_minor": 5
}
